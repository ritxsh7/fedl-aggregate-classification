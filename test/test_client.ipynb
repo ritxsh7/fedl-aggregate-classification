{
 "cells": [
  {
   "cell_type": "code",
   "execution_count": 43,
   "metadata": {},
   "outputs": [],
   "source": [
    "import os\n",
    "import flwr as fl\n",
    "import pandas as pd\n",
    "from tensorflow.keras.optimizers import Adam\n",
    "from tensorflow.keras.preprocessing.image import ImageDataGenerator\n",
    "from helpers import create_model, plotMap\n",
    "\n",
    "# Create data generators\n",
    "datagen = ImageDataGenerator(rescale=1.0/255.0)\n",
    "\n",
    "test_dir = r'D:\\federated learning\\flower-tutorial\\data\\Testing'\n",
    "train_dir = r'D:\\federated learning\\flower-tutorial\\data\\Training'\n",
    "\n",
    "\n",
    "def load_data(dir):\n",
    "    filepaths = []\n",
    "    labels = []\n",
    "\n",
    "\n",
    "    folds = os.listdir(dir)\n",
    "\n",
    "    for fold in folds:\n",
    "        foldpath = os.path.join(test_dir, fold)\n",
    "        \n",
    "        files = os.listdir(foldpath)\n",
    "        for f in files:\n",
    "            fpath = os.path.join(foldpath, f)\n",
    "            \n",
    "            filepaths.append(fpath)\n",
    "            labels.append(fold)\n",
    "\n",
    "    return pd.DataFrame(data={'filepaths':filepaths, 'labels':labels})\n",
    "\n",
    "train_data = load_data(train_dir)\n",
    "test_data = load_data(test_dir)\n",
    "\n",
    "client1_train = train_data.sample(frac=0.5, random_state=42)\n",
    "client1_test = test_data.sample(frac= 0.5, random_state=42)"
   ]
  },
  {
   "cell_type": "code",
   "execution_count": 45,
   "metadata": {},
   "outputs": [
    {
     "data": {
      "text/plain": [
       "labels\n",
       "notumor       192\n",
       "meningioma    164\n",
       "glioma        151\n",
       "pituitary     149\n",
       "Name: count, dtype: int64"
      ]
     },
     "execution_count": 45,
     "metadata": {},
     "output_type": "execute_result"
    }
   ],
   "source": [
    "client1_train['labels'].value_counts()"
   ]
  },
  {
   "cell_type": "code",
   "execution_count": null,
   "metadata": {},
   "outputs": [],
   "source": []
  }
 ],
 "metadata": {
  "kernelspec": {
   "display_name": "tf-env",
   "language": "python",
   "name": "python3"
  },
  "language_info": {
   "codemirror_mode": {
    "name": "ipython",
    "version": 3
   },
   "file_extension": ".py",
   "mimetype": "text/x-python",
   "name": "python",
   "nbconvert_exporter": "python",
   "pygments_lexer": "ipython3",
   "version": "3.10.15"
  }
 },
 "nbformat": 4,
 "nbformat_minor": 2
}
